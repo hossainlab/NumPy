{
 "cells": [
  {
   "cell_type": "markdown",
   "metadata": {},
   "source": [
    "# Statistics"
   ]
  },
  {
   "cell_type": "code",
   "execution_count": 1,
   "metadata": {},
   "outputs": [],
   "source": [
    "import numpy as np "
   ]
  },
  {
   "cell_type": "code",
   "execution_count": 36,
   "metadata": {},
   "outputs": [
    {
     "name": "stdout",
     "output_type": "stream",
     "text": [
      "[ 0  1  2  3  4  5  6  7  8  9 10 11 12 13 14 15 16 17 18 19]\n"
     ]
    }
   ],
   "source": [
    "# 1D array \n",
    "A = np.arange(20)\n",
    "print(A)"
   ]
  },
  {
   "cell_type": "code",
   "execution_count": 39,
   "metadata": {},
   "outputs": [
    {
     "data": {
      "text/plain": [
       "1"
      ]
     },
     "execution_count": 39,
     "metadata": {},
     "output_type": "execute_result"
    }
   ],
   "source": [
    "A.ndim"
   ]
  },
  {
   "cell_type": "code",
   "execution_count": 37,
   "metadata": {},
   "outputs": [
    {
     "name": "stdout",
     "output_type": "stream",
     "text": [
      "[[11 12 13]\n",
      " [21 22 23]]\n"
     ]
    }
   ],
   "source": [
    "# 2D array \n",
    "A2 = np.array([[11, 12, 13], [21, 22, 23]])\n",
    "print(A2)"
   ]
  },
  {
   "cell_type": "code",
   "execution_count": 40,
   "metadata": {},
   "outputs": [
    {
     "data": {
      "text/plain": [
       "2"
      ]
     },
     "execution_count": 40,
     "metadata": {},
     "output_type": "execute_result"
    }
   ],
   "source": [
    "A2.ndim"
   ]
  },
  {
   "cell_type": "markdown",
   "metadata": {},
   "source": [
    "## Sum \n",
    "- Sum of array elements over a given axis.\n",
    "    - **Syntax:** `np.sum(array); array-wise sum`\n",
    "    - **Syntax:** `np.sum(array, axis=0); row-wise sum`\n",
    "    - **Syntax:** `np.sum(array, axis=1); column-wise sum`"
   ]
  },
  {
   "cell_type": "markdown",
   "metadata": {},
   "source": [
    "![](../img/axis.jpg)\n",
    "Axis 0 is thus the first dimension (the \"rows\"), and axis 1 is the second dimension (the \"columns\")"
   ]
  },
  {
   "cell_type": "code",
   "execution_count": 41,
   "metadata": {},
   "outputs": [
    {
     "data": {
      "text/plain": [
       "45"
      ]
     },
     "execution_count": 41,
     "metadata": {},
     "output_type": "execute_result"
    }
   ],
   "source": [
    "# sum of 1D array \n",
    "np.sum(A1)"
   ]
  },
  {
   "cell_type": "code",
   "execution_count": 42,
   "metadata": {},
   "outputs": [
    {
     "data": {
      "text/plain": [
       "102"
      ]
     },
     "execution_count": 42,
     "metadata": {},
     "output_type": "execute_result"
    }
   ],
   "source": [
    "# array-wise sum of 2D array \n",
    "np.sum(A2)"
   ]
  },
  {
   "cell_type": "code",
   "execution_count": 43,
   "metadata": {},
   "outputs": [
    {
     "data": {
      "text/plain": [
       "array([32, 34, 36])"
      ]
     },
     "execution_count": 43,
     "metadata": {},
     "output_type": "execute_result"
    }
   ],
   "source": [
    "# sum of 2D array(axis=0, row-wise sum)\n",
    "np.sum(A2, axis=0)"
   ]
  },
  {
   "cell_type": "code",
   "execution_count": 44,
   "metadata": {},
   "outputs": [
    {
     "data": {
      "text/plain": [
       "array([36, 66])"
      ]
     },
     "execution_count": 44,
     "metadata": {},
     "output_type": "execute_result"
    }
   ],
   "source": [
    "# sum of 2D array(axis=1, column-wise sum)\n",
    "np.sum(A2, axis=1)"
   ]
  },
  {
   "cell_type": "markdown",
   "metadata": {},
   "source": [
    "## Mean \n",
    "- Compute the median along the specified axis.\n",
    "- Returns the average of the array elements. The average is taken over the flattened array by default,  otherwise over the specified axis. `float64` intermediate and return values re used for integer inputs.\n",
    "\n",
    "    - **Syntax:** `np.mean(array); array-wise mean`\n",
    "    - **Syntax:** `np.mean(array, axis=0); row-wise mean`\n",
    "    - **Syntax:** `np.mean(array, axis=1); column-wise mean`"
   ]
  },
  {
   "cell_type": "code",
   "execution_count": 45,
   "metadata": {},
   "outputs": [
    {
     "data": {
      "text/plain": [
       "9.5"
      ]
     },
     "execution_count": 45,
     "metadata": {},
     "output_type": "execute_result"
    }
   ],
   "source": [
    "# compute the average of array `A`\n",
    "np.mean(A)"
   ]
  },
  {
   "cell_type": "code",
   "execution_count": 46,
   "metadata": {},
   "outputs": [
    {
     "data": {
      "text/plain": [
       "array([16., 17., 18.])"
      ]
     },
     "execution_count": 46,
     "metadata": {},
     "output_type": "execute_result"
    }
   ],
   "source": [
    "# mean of 2D array(axis=0, row-wise)\n",
    "np.mean(A2, axis=0)"
   ]
  },
  {
   "cell_type": "code",
   "execution_count": 47,
   "metadata": {},
   "outputs": [
    {
     "data": {
      "text/plain": [
       "array([12., 22.])"
      ]
     },
     "execution_count": 47,
     "metadata": {},
     "output_type": "execute_result"
    }
   ],
   "source": [
    "# mean of 2D array(axis=1, column-wise)\n",
    "np.mean(A2, axis=1)"
   ]
  },
  {
   "cell_type": "markdown",
   "metadata": {},
   "source": [
    "## Median\n",
    "- Compute the median along the specified axis.\n",
    "- Returns the median of the array elements.\n",
    "    \n",
    "    - **Syntax:** `np.median(array); array-wise median`\n",
    "    - **Syntax:** `np.median(array, axis=0); row-wise median`\n",
    "    - **Syntax:** `np.median(array, axis=1); column-wise median`"
   ]
  },
  {
   "cell_type": "code",
   "execution_count": 48,
   "metadata": {},
   "outputs": [
    {
     "data": {
      "text/plain": [
       "9.5"
      ]
     },
     "execution_count": 48,
     "metadata": {},
     "output_type": "execute_result"
    }
   ],
   "source": [
    "# compute the meadian of `A`\n",
    "np.median(A)"
   ]
  },
  {
   "cell_type": "code",
   "execution_count": 21,
   "metadata": {},
   "outputs": [
    {
     "data": {
      "text/plain": [
       "array([16., 17., 18.])"
      ]
     },
     "execution_count": 21,
     "metadata": {},
     "output_type": "execute_result"
    }
   ],
   "source": [
    "# median of 2D array(axis=0, row-wise)\n",
    "np.median(A2, axis=0)"
   ]
  },
  {
   "cell_type": "code",
   "execution_count": 22,
   "metadata": {},
   "outputs": [
    {
     "data": {
      "text/plain": [
       "array([12., 22.])"
      ]
     },
     "execution_count": 22,
     "metadata": {},
     "output_type": "execute_result"
    }
   ],
   "source": [
    "# median of 2D array(axis=1, column-wise)\n",
    "np.median(A2, axis=1)"
   ]
  },
  {
   "cell_type": "markdown",
   "metadata": {},
   "source": [
    "## Minimum \n",
    "- Return the minimum of an array or minimum along an axis.\n",
    "     \n",
    "    - **Syntax:** `np.min(array); array-wise min`\n",
    "    - **Syntax:** `np.min(array, axis=0); row-wise min`\n",
    "    - **Syntax:** `np.min(array, axis=1); column-wise min`"
   ]
  },
  {
   "cell_type": "code",
   "execution_count": 59,
   "metadata": {},
   "outputs": [
    {
     "data": {
      "text/plain": [
       "0"
      ]
     },
     "execution_count": 59,
     "metadata": {},
     "output_type": "execute_result"
    }
   ],
   "source": [
    "# minimum value of `A`\n",
    "np.min(A)"
   ]
  },
  {
   "cell_type": "code",
   "execution_count": 61,
   "metadata": {},
   "outputs": [
    {
     "data": {
      "text/plain": [
       "array([11, 12, 13])"
      ]
     },
     "execution_count": 61,
     "metadata": {},
     "output_type": "execute_result"
    }
   ],
   "source": [
    "# minimum value of A2(axis=0, row-wise)\n",
    "np.min(A2, axis=0)"
   ]
  },
  {
   "cell_type": "code",
   "execution_count": 62,
   "metadata": {},
   "outputs": [
    {
     "data": {
      "text/plain": [
       "array([11, 21])"
      ]
     },
     "execution_count": 62,
     "metadata": {},
     "output_type": "execute_result"
    }
   ],
   "source": [
    "# minimum value of A2(axis=1, column-wise)\n",
    "np.min(A2, axis=1)"
   ]
  },
  {
   "cell_type": "markdown",
   "metadata": {},
   "source": [
    "## Minimum \n",
    "- Return the maximum of an array or minimum along an axis.\n",
    "     \n",
    "    - **Syntax:** `np.max(array); array-wise max`\n",
    "    - **Syntax:** `np.max(array, axis=0); row-wise max`\n",
    "    - **Syntax:** `np.max(array, axis=1); column-wise max`"
   ]
  },
  {
   "cell_type": "code",
   "execution_count": 63,
   "metadata": {},
   "outputs": [
    {
     "data": {
      "text/plain": [
       "19"
      ]
     },
     "execution_count": 63,
     "metadata": {},
     "output_type": "execute_result"
    }
   ],
   "source": [
    "# maxiumum value of `A`\n",
    "np.max(A)"
   ]
  },
  {
   "cell_type": "code",
   "execution_count": 64,
   "metadata": {},
   "outputs": [
    {
     "data": {
      "text/plain": [
       "array([21, 22, 23])"
      ]
     },
     "execution_count": 64,
     "metadata": {},
     "output_type": "execute_result"
    }
   ],
   "source": [
    "# maxiumum value of A2(axis=0, row-wise)\n",
    "np.max(A2, axis=0)"
   ]
  },
  {
   "cell_type": "code",
   "execution_count": 65,
   "metadata": {},
   "outputs": [
    {
     "data": {
      "text/plain": [
       "array([13, 23])"
      ]
     },
     "execution_count": 65,
     "metadata": {},
     "output_type": "execute_result"
    }
   ],
   "source": [
    "# maxiumum value of A2(axis=1, column-wise)\n",
    "np.max(A2, axis=1)"
   ]
  },
  {
   "cell_type": "markdown",
   "metadata": {},
   "source": [
    "## Range \n",
    "- **Syntax:** `np.max(array) - np.min(array)`"
   ]
  },
  {
   "cell_type": "code",
   "execution_count": 66,
   "metadata": {},
   "outputs": [
    {
     "name": "stdout",
     "output_type": "stream",
     "text": [
      "19\n"
     ]
    }
   ],
   "source": [
    "r = np.max(A) - np.min(A)\n",
    "print(r)"
   ]
  },
  {
   "cell_type": "markdown",
   "metadata": {},
   "source": [
    "## Standard Deviation\n",
    "- Compute the standard deviation along the specified axis.\n",
    "- Returns the standard deviation, a measure of the spread of a distribution, of the array elements. The standard deviation is computed for the\n",
    "flattened array by default, otherwise over the specified axis.\n",
    "    - **Syntax:** `np.std(array); array-wise std`\n",
    "    - **Syntax:** `np.std(array, axis=0); row-wise std`\n",
    "    - **Syntax:** `np.std(array, axis=1); column-wise std`"
   ]
  },
  {
   "cell_type": "code",
   "execution_count": 49,
   "metadata": {},
   "outputs": [
    {
     "data": {
      "text/plain": [
       "5.766281297335398"
      ]
     },
     "execution_count": 49,
     "metadata": {},
     "output_type": "execute_result"
    }
   ],
   "source": [
    "# compute the standard deviation of `A`\n",
    "np.std(A)"
   ]
  },
  {
   "cell_type": "code",
   "execution_count": 25,
   "metadata": {},
   "outputs": [
    {
     "data": {
      "text/plain": [
       "array([5., 5., 5.])"
      ]
     },
     "execution_count": 25,
     "metadata": {},
     "output_type": "execute_result"
    }
   ],
   "source": [
    "# standard deviation of 2D array(axis=0, row-wise)\n",
    "np.std(A2, axis=0)"
   ]
  },
  {
   "cell_type": "code",
   "execution_count": 27,
   "metadata": {},
   "outputs": [
    {
     "data": {
      "text/plain": [
       "array([0.81649658, 0.81649658])"
      ]
     },
     "execution_count": 27,
     "metadata": {},
     "output_type": "execute_result"
    }
   ],
   "source": [
    "# standard deviation of 2D array(axis=1, column-wise)\n",
    "np.std(A2, axis=1)"
   ]
  },
  {
   "cell_type": "markdown",
   "metadata": {},
   "source": [
    "## Variance\n",
    "- Compute the variance along the specified axis.\n",
    "- Returns the variance of the array elements, a measure of the spread of a\n",
    "  distribution.  The variance is computed for the flattened array by\n",
    "  default, otherwise over the specified axis.\n",
    "    - **Syntax:** `np.var(array); array-wise var`\n",
    "    - **Syntax:** `np.var(array, axis=0); row-wise var`\n",
    "    - **Syntax:** `np.var(array, axis=1); column-wise var`"
   ]
  },
  {
   "cell_type": "code",
   "execution_count": 50,
   "metadata": {},
   "outputs": [
    {
     "data": {
      "text/plain": [
       "33.25"
      ]
     },
     "execution_count": 50,
     "metadata": {},
     "output_type": "execute_result"
    }
   ],
   "source": [
    "# compute the variance of `A`\n",
    "np.var(A)"
   ]
  },
  {
   "cell_type": "code",
   "execution_count": 32,
   "metadata": {},
   "outputs": [
    {
     "data": {
      "text/plain": [
       "array([5., 5., 5.])"
      ]
     },
     "execution_count": 32,
     "metadata": {},
     "output_type": "execute_result"
    }
   ],
   "source": [
    "# variance of 2D array(axis=0, row-wise)\n",
    "np.std(A2, axis=0)"
   ]
  },
  {
   "cell_type": "code",
   "execution_count": 33,
   "metadata": {},
   "outputs": [
    {
     "data": {
      "text/plain": [
       "array([5., 5., 5.])"
      ]
     },
     "execution_count": 33,
     "metadata": {},
     "output_type": "execute_result"
    }
   ],
   "source": [
    "# variance of 2D array(axis=1, column-wise)\n",
    "np.std(A2, axis=0)"
   ]
  },
  {
   "cell_type": "markdown",
   "metadata": {},
   "source": [
    "## Quantile\n",
    "- Compute the q-th quantile of the data along the specified axis.\n",
    "    - **Syntax:** `np.quantile(array); array-wise quantile`\n",
    "    - **Syntax:** `np.quantile(array, axis=0); row-wise quantile`\n",
    "    - **Syntax:** `np.quantile(array, axis=1); column-wise quantile`"
   ]
  },
  {
   "cell_type": "code",
   "execution_count": 55,
   "metadata": {},
   "outputs": [
    {
     "data": {
      "text/plain": [
       "4.75"
      ]
     },
     "execution_count": 55,
     "metadata": {},
     "output_type": "execute_result"
    }
   ],
   "source": [
    "# 25th percentile of `A`\n",
    "np.quantile(A, 0.25)"
   ]
  },
  {
   "cell_type": "code",
   "execution_count": 56,
   "metadata": {},
   "outputs": [
    {
     "data": {
      "text/plain": [
       "array([16., 17., 18.])"
      ]
     },
     "execution_count": 56,
     "metadata": {},
     "output_type": "execute_result"
    }
   ],
   "source": [
    "# 50th percentile of `A2`(axis=0)\n",
    "np.quantile(A2, 0.5, axis=0)"
   ]
  },
  {
   "cell_type": "code",
   "execution_count": 57,
   "metadata": {},
   "outputs": [
    {
     "data": {
      "text/plain": [
       "array([12.5, 22.5])"
      ]
     },
     "execution_count": 57,
     "metadata": {},
     "output_type": "execute_result"
    }
   ],
   "source": [
    "# 75th percentile of `A2`(axis=1)\n",
    "np.quantile(A2, 0.75, axis=1)"
   ]
  },
  {
   "cell_type": "markdown",
   "metadata": {},
   "source": [
    "## Correlation Coefficient"
   ]
  },
  {
   "cell_type": "code",
   "execution_count": 68,
   "metadata": {},
   "outputs": [
    {
     "name": "stdout",
     "output_type": "stream",
     "text": [
      " corrcoef(*args, **kwargs)\n",
      "\n",
      "Return Pearson product-moment correlation coefficients.\n",
      "\n",
      "Please refer to the documentation for `cov` for more detail.  The\n",
      "relationship between the correlation coefficient matrix, `R`, and the\n",
      "covariance matrix, `C`, is\n",
      "\n",
      ".. math:: R_{ij} = \\frac{ C_{ij} } { \\sqrt{ C_{ii} * C_{jj} } }\n",
      "\n",
      "The values of `R` are between -1 and 1, inclusive.\n",
      "\n",
      "Parameters\n",
      "----------\n",
      "x : array_like\n",
      "    A 1-D or 2-D array containing multiple variables and observations.\n",
      "    Each row of `x` represents a variable, and each column a single\n",
      "    observation of all those variables. Also see `rowvar` below.\n",
      "y : array_like, optional\n",
      "    An additional set of variables and observations. `y` has the same\n",
      "    shape as `x`.\n",
      "rowvar : bool, optional\n",
      "    If `rowvar` is True (default), then each row represents a\n",
      "    variable, with observations in the columns. Otherwise, the relationship\n",
      "    is transposed: each column represents a variable, while the rows\n",
      "    contain observations.\n",
      "bias : _NoValue, optional\n",
      "    Has no effect, do not use.\n",
      "\n",
      "    .. deprecated:: 1.10.0\n",
      "ddof : _NoValue, optional\n",
      "    Has no effect, do not use.\n",
      "\n",
      "    .. deprecated:: 1.10.0\n",
      "\n",
      "Returns\n",
      "-------\n",
      "R : ndarray\n",
      "    The correlation coefficient matrix of the variables.\n",
      "\n",
      "See Also\n",
      "--------\n",
      "cov : Covariance matrix\n",
      "\n",
      "Notes\n",
      "-----\n",
      "Due to floating point rounding the resulting array may not be Hermitian,\n",
      "the diagonal elements may not be 1, and the elements may not satisfy the\n",
      "inequality abs(a) <= 1. The real and imaginary parts are clipped to the\n",
      "interval [-1,  1] in an attempt to improve on that situation but is not\n",
      "much help in the complex case.\n",
      "\n",
      "This function accepts but discards arguments `bias` and `ddof`.  This is\n",
      "for backwards compatibility with previous versions of this function.  These\n",
      "arguments had no effect on the return values of the function and can be\n",
      "safely ignored in this and previous versions of numpy.\n"
     ]
    }
   ],
   "source": [
    "# documentation \n",
    "np.info(np.corrcoef)"
   ]
  },
  {
   "cell_type": "code",
   "execution_count": 70,
   "metadata": {},
   "outputs": [
    {
     "data": {
      "text/plain": [
       "array([[1., 1.],\n",
       "       [1., 1.]])"
      ]
     },
     "execution_count": 70,
     "metadata": {},
     "output_type": "execute_result"
    }
   ],
   "source": [
    "# compute Correlation Coefficient\n",
    "np.corrcoef(A2)"
   ]
  }
 ],
 "metadata": {
  "kernelspec": {
   "display_name": "Python 3",
   "language": "python",
   "name": "python3"
  },
  "language_info": {
   "codemirror_mode": {
    "name": "ipython",
    "version": 3
   },
   "file_extension": ".py",
   "mimetype": "text/x-python",
   "name": "python",
   "nbconvert_exporter": "python",
   "pygments_lexer": "ipython3",
   "version": "3.8.3"
  },
  "latex_envs": {
   "LaTeX_envs_menu_present": true,
   "autoclose": false,
   "autocomplete": true,
   "bibliofile": "biblio.bib",
   "cite_by": "apalike",
   "current_citInitial": 1,
   "eqLabelWithNumbers": true,
   "eqNumInitial": 1,
   "hotkeys": {
    "equation": "Ctrl-E",
    "itemize": "Ctrl-I"
   },
   "labels_anchors": false,
   "latex_user_defs": false,
   "report_style_numbering": false,
   "user_envs_cfg": false
  },
  "toc": {
   "base_numbering": 1,
   "nav_menu": {},
   "number_sections": true,
   "sideBar": true,
   "skip_h1_title": false,
   "title_cell": "Table of Contents",
   "title_sidebar": "Contents",
   "toc_cell": false,
   "toc_position": {},
   "toc_section_display": true,
   "toc_window_display": false
  }
 },
 "nbformat": 4,
 "nbformat_minor": 4
}